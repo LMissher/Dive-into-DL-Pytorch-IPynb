{
 "cells": [
  {
   "cell_type": "markdown",
   "metadata": {},
   "source": [
    "# 2.2数据操作"
   ]
  },
  {
   "cell_type": "code",
   "execution_count": 1,
   "metadata": {},
   "outputs": [],
   "source": [
    "import torch"
   ]
  },
  {
   "cell_type": "code",
   "execution_count": 2,
   "metadata": {},
   "outputs": [
    {
     "name": "stdout",
     "output_type": "stream",
     "text": [
      "tensor([[-9.2059e+08,  3.0634e-41,  0.0000e+00],\n",
      "        [ 0.0000e+00,  0.0000e+00,  0.0000e+00],\n",
      "        [ 0.0000e+00,  0.0000e+00,  1.3452e-43],\n",
      "        [ 0.0000e+00,  0.0000e+00,  9.2196e-41],\n",
      "        [ 0.0000e+00,  0.0000e+00, -1.5970e-23]])\n"
     ]
    }
   ],
   "source": [
    "x=torch.empty(5,3)\n",
    "print(x)"
   ]
  },
  {
   "cell_type": "code",
   "execution_count": 3,
   "metadata": {},
   "outputs": [
    {
     "name": "stdout",
     "output_type": "stream",
     "text": [
      "tensor([[0.4790, 0.0421, 0.5513],\n",
      "        [0.7146, 0.8573, 0.2692],\n",
      "        [0.1834, 0.1797, 0.6545],\n",
      "        [0.8410, 0.5031, 0.2531],\n",
      "        [0.2564, 0.6409, 0.0034]])\n"
     ]
    }
   ],
   "source": [
    "x=torch.rand(5,3)\n",
    "print(x)"
   ]
  },
  {
   "cell_type": "code",
   "execution_count": 4,
   "metadata": {},
   "outputs": [
    {
     "name": "stdout",
     "output_type": "stream",
     "text": [
      "tensor([[0, 0, 0],\n",
      "        [0, 0, 0],\n",
      "        [0, 0, 0],\n",
      "        [0, 0, 0],\n",
      "        [0, 0, 0]])\n"
     ]
    }
   ],
   "source": [
    "x=torch.zeros(5,3,dtype=torch.long)\n",
    "print(x)"
   ]
  },
  {
   "cell_type": "code",
   "execution_count": 5,
   "metadata": {},
   "outputs": [
    {
     "name": "stdout",
     "output_type": "stream",
     "text": [
      "torch.Size([5, 3])\n",
      "torch.Size([5, 3])\n"
     ]
    }
   ],
   "source": [
    "print(x.size())\n",
    "print(x.shape)"
   ]
  },
  {
   "cell_type": "markdown",
   "metadata": {},
   "source": [
    "$linspace$均匀分，$normal$正太分布，$uniform$均匀分布。"
   ]
  },
  {
   "cell_type": "code",
   "execution_count": 10,
   "metadata": {},
   "outputs": [
    {
     "name": "stdout",
     "output_type": "stream",
     "text": [
      "tensor([[0.8053, 0.8579, 0.6674],\n",
      "        [0.8913, 0.5655, 0.7309],\n",
      "        [0.8178, 0.2700, 0.6136],\n",
      "        [0.7132, 0.7802, 0.5807],\n",
      "        [0.2781, 0.9951, 0.4703]]) tensor([[1.2363, 1.4053, 1.1709],\n",
      "        [1.0768, 1.2469, 1.3623],\n",
      "        [1.0972, 0.4235, 1.4190],\n",
      "        [1.2353, 1.4899, 1.0743],\n",
      "        [0.5098, 1.1044, 1.1792]]) tensor([[1.2363, 1.4053, 1.1709],\n",
      "        [1.0768, 1.2469, 1.3623],\n",
      "        [1.0972, 0.4235, 1.4190],\n",
      "        [1.2353, 1.4899, 1.0743],\n",
      "        [0.5098, 1.1044, 1.1792]])\n"
     ]
    }
   ],
   "source": [
    "x=torch.rand(5,3)\n",
    "y=torch.rand(5,3)\n",
    "z=torch.rand(5,3)\n",
    "torch.add(x,y,out=z)\n",
    "y.add_(x)\n",
    "print(x,y,z)"
   ]
  },
  {
   "cell_type": "markdown",
   "metadata": {},
   "source": [
    "索引数据与原数据共享内存,高级索引函数查文档即可"
   ]
  },
  {
   "cell_type": "code",
   "execution_count": 11,
   "metadata": {},
   "outputs": [
    {
     "name": "stdout",
     "output_type": "stream",
     "text": [
      "tensor([1.2363, 1.4053, 1.1709])\n",
      "tensor([2.2363, 2.4053, 2.1709])\n"
     ]
    }
   ],
   "source": [
    "k=z[0,:]\n",
    "print(z[0,:])\n",
    "k+=1\n",
    "print(z[0,:])"
   ]
  },
  {
   "cell_type": "markdown",
   "metadata": {},
   "source": [
    "$view$可以改变$tensor$的形状，一个维度可以设置为$-1$，大小根据其他$n-1$维推出，$view$改变后得到的新变量与原变量共享内存"
   ]
  },
  {
   "cell_type": "code",
   "execution_count": 12,
   "metadata": {},
   "outputs": [
    {
     "name": "stdout",
     "output_type": "stream",
     "text": [
      "tensor([[0.8053, 0.8579, 0.6674],\n",
      "        [0.8913, 0.5655, 0.7309],\n",
      "        [0.8178, 0.2700, 0.6136],\n",
      "        [0.7132, 0.7802, 0.5807],\n",
      "        [0.2781, 0.9951, 0.4703]]) tensor([0.8053, 0.8579, 0.6674, 0.8913, 0.5655, 0.7309, 0.8178, 0.2700, 0.6136,\n",
      "        0.7132, 0.7802, 0.5807, 0.2781, 0.9951, 0.4703]) tensor([[1.2363, 1.4053, 1.1709],\n",
      "        [1.0768, 1.2469, 1.3623],\n",
      "        [1.0972, 0.4235, 1.4190],\n",
      "        [1.2353, 1.4899, 1.0743],\n",
      "        [0.5098, 1.1044, 1.1792]]) tensor([[1.2363, 1.4053, 1.1709, 1.0768, 1.2469],\n",
      "        [1.3623, 1.0972, 0.4235, 1.4190, 1.2353],\n",
      "        [1.4899, 1.0743, 0.5098, 1.1044, 1.1792]])\n",
      "tensor([[0.8053, 0.8579, 0.6674],\n",
      "        [0.8913, 0.5655, 0.7309],\n",
      "        [0.8178, 0.2700, 0.6136],\n",
      "        [0.7132, 0.7802, 0.5807],\n",
      "        [0.2781, 0.9951, 0.4703]]) tensor([0.8053, 0.8579, 0.6674, 0.8913, 0.5655, 0.7309, 0.8178, 0.2700, 0.6136,\n",
      "        0.7132, 0.7802, 0.5807, 0.2781, 0.9951, 0.4703]) tensor([[2.2363, 2.4053, 2.1709],\n",
      "        [2.0768, 2.2469, 2.3623],\n",
      "        [2.0972, 1.4235, 2.4190],\n",
      "        [2.2353, 2.4899, 2.0743],\n",
      "        [1.5098, 2.1044, 2.1792]]) tensor([[2.2363, 2.4053, 2.1709, 2.0768, 2.2469],\n",
      "        [2.3623, 2.0972, 1.4235, 2.4190, 2.2353],\n",
      "        [2.4899, 2.0743, 1.5098, 2.1044, 2.1792]])\n"
     ]
    }
   ],
   "source": [
    "xx=x.view(15)\n",
    "yy=y.view(-1,5)\n",
    "print(x,xx,y,yy)\n",
    "yy+=1\n",
    "print(x,xx,y,yy)"
   ]
  },
  {
   "cell_type": "markdown",
   "metadata": {},
   "source": [
    "如果想改变形状后的变量与原变量不共享内存，可以先$clone$后再对$clone$进行$view$。$clone$后再$view$和$reshape$对比还有不同在于会被记录在计算图中。"
   ]
  },
  {
   "cell_type": "code",
   "execution_count": 13,
   "metadata": {},
   "outputs": [
    {
     "name": "stdout",
     "output_type": "stream",
     "text": [
      "tensor([[2.2363, 2.4053, 2.1709],\n",
      "        [2.0768, 2.2469, 2.3623],\n",
      "        [2.0972, 1.4235, 2.4190],\n",
      "        [2.2353, 2.4899, 2.0743],\n",
      "        [1.5098, 2.1044, 2.1792]]) tensor([[1.2363, 1.4053, 1.1709, 1.0768, 1.2469],\n",
      "        [1.3623, 1.0972, 0.4235, 1.4190, 1.2353],\n",
      "        [1.4899, 1.0743, 0.5098, 1.1044, 1.1792]])\n"
     ]
    }
   ],
   "source": [
    "yyy=y.clone().view(-1,5)\n",
    "yyy-=1\n",
    "print(y,yyy)"
   ]
  },
  {
   "cell_type": "code",
   "execution_count": 14,
   "metadata": {},
   "outputs": [
    {
     "data": {
      "text/plain": [
       "1.2362990379333496"
      ]
     },
     "execution_count": 14,
     "metadata": {},
     "output_type": "execute_result"
    }
   ],
   "source": [
    "yyy[0,0].item()"
   ]
  },
  {
   "cell_type": "markdown",
   "metadata": {},
   "source": [
    "支持的线性代数操作查文档即可\n",
    "广播机制即不同大小的tensor也可做运算"
   ]
  },
  {
   "cell_type": "code",
   "execution_count": 17,
   "metadata": {},
   "outputs": [
    {
     "name": "stdout",
     "output_type": "stream",
     "text": [
      "tensor([[0.9767, 0.5459, 0.0932]]) tensor([[0.2042],\n",
      "        [0.9041],\n",
      "        [0.1361]]) tensor([[1.1809, 0.7501, 0.2974],\n",
      "        [1.8808, 1.4500, 0.9972],\n",
      "        [1.1128, 0.6820, 0.2292]])\n"
     ]
    }
   ],
   "source": [
    "a=torch.rand(1,3)\n",
    "b=torch.rand(3,1)\n",
    "c=torch.rand(3,3)\n",
    "torch.add(a,b,out=c)\n",
    "print(a,b,c)"
   ]
  },
  {
   "cell_type": "markdown",
   "metadata": {},
   "source": [
    "$y=x+y$ 与 $y+=x$ $y.add_(x)$ $torch.add(x,y,out=y)$ 的不同在于后面的方法不会开辟新内存而第一个的y指向了新内存"
   ]
  },
  {
   "cell_type": "code",
   "execution_count": 18,
   "metadata": {},
   "outputs": [
    {
     "name": "stdout",
     "output_type": "stream",
     "text": [
      "tensor([[2.1809, 1.7501, 1.2974],\n",
      "        [2.8808, 2.4500, 1.9972],\n",
      "        [2.1128, 1.6820, 1.2292]]) [[2.180908  1.7501341 1.2973703]\n",
      " [2.8807812 2.4500072 1.9972434]\n",
      " [2.1127646 1.6819906 1.2292268]]\n"
     ]
    }
   ],
   "source": [
    "num=c.numpy()\n",
    "num+=1\n",
    "print(c,num)"
   ]
  },
  {
   "cell_type": "code",
   "execution_count": 19,
   "metadata": {},
   "outputs": [
    {
     "name": "stdout",
     "output_type": "stream",
     "text": [
      "[2. 2. 2. 2. 2.] tensor([2., 2., 2., 2., 2.], dtype=torch.float64)\n"
     ]
    }
   ],
   "source": [
    "import numpy as np\n",
    "a=np.ones(5)\n",
    "c=torch.from_numpy(a)\n",
    "c+=1\n",
    "print(a,c)"
   ]
  },
  {
   "cell_type": "code",
   "execution_count": null,
   "metadata": {},
   "outputs": [],
   "source": []
  }
 ],
 "metadata": {
  "kernelspec": {
   "display_name": "Python 3",
   "language": "python",
   "name": "python3"
  },
  "language_info": {
   "codemirror_mode": {
    "name": "ipython",
    "version": 3
   },
   "file_extension": ".py",
   "mimetype": "text/x-python",
   "name": "python",
   "nbconvert_exporter": "python",
   "pygments_lexer": "ipython3",
   "version": "3.7.5"
  }
 },
 "nbformat": 4,
 "nbformat_minor": 2
}
