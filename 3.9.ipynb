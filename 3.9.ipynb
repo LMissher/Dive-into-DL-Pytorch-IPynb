{
 "cells": [
  {
   "cell_type": "markdown",
   "metadata": {},
   "source": [
    "## 多层感知机的从零开始实现"
   ]
  },
  {
   "cell_type": "code",
   "execution_count": 1,
   "metadata": {},
   "outputs": [],
   "source": [
    "import torch\n",
    "import numpy as np\n",
    "import sys\n",
    "sys.path.append(\"..\")\n",
    "import d2lzh_pytorch as d2l"
   ]
  },
  {
   "cell_type": "code",
   "execution_count": 2,
   "metadata": {},
   "outputs": [],
   "source": [
    "batch_size = 256\n",
    "train_iter, test_iter = d2l.load_data_fashion_mnist(batch_size)"
   ]
  },
  {
   "cell_type": "code",
   "execution_count": 3,
   "metadata": {},
   "outputs": [],
   "source": [
    "num_inputs, num_outputs, num_hiddens = 784, 10, 256\n",
    "w1 = torch.tensor(np.random.normal(0, 0.01, (num_inputs, num_hiddens)),dtype = torch.float)\n",
    "b1 = torch.zeros(num_hiddens, dtype = torch.float)\n",
    "w2 = torch.tensor(np.random.normal(0, 0.01, (num_hiddens, num_outputs)),dtype = torch.float)\n",
    "b2 = torch.zeros(num_outputs, dtype = torch.float)\n",
    "\n",
    "params = [w1, b1, w2,b1]\n",
    "for param in params:\n",
    "    param.requires_grad_(True)"
   ]
  },
  {
   "cell_type": "code",
   "execution_count": 4,
   "metadata": {},
   "outputs": [],
   "source": [
    "def ReLu(X):\n",
    "    return torch.max(input = X, other = torch.tensor(0.0))"
   ]
  },
  {
   "cell_type": "code",
   "execution_count": 5,
   "metadata": {},
   "outputs": [],
   "source": [
    "def net(X):\n",
    "    X = X.view(-1,num_inputs)\n",
    "    H = ReLu(torch.mm(X,w1)+b1)\n",
    "    return torch.mm(H,w2)+b2"
   ]
  },
  {
   "cell_type": "code",
   "execution_count": 6,
   "metadata": {},
   "outputs": [],
   "source": [
    "loss = torch.nn.CrossEntropyLoss()"
   ]
  },
  {
   "cell_type": "code",
   "execution_count": 7,
   "metadata": {},
   "outputs": [
    {
     "name": "stdout",
     "output_type": "stream",
     "text": [
      "epoch:1, loss:0.003, train acc:0.7108, test acc:0.7662\n",
      "epoch:2, loss:0.002, train acc:0.7677, test acc:0.8187\n",
      "epoch:3, loss:0.002, train acc:0.7937, test acc:0.8475\n",
      "epoch:4, loss:0.002, train acc:0.8091, test acc:0.8157\n",
      "epoch:5, loss:0.002, train acc:0.8204, test acc:0.8528\n"
     ]
    }
   ],
   "source": [
    "epochs ,lr = 5, 100\n",
    "train_l_sum, train_acc_sum, n = 0.0, 0.0, 0\n",
    "for epoch in range(1,epochs+1):\n",
    "    for X,y in train_iter:\n",
    "        y_hat=net(X)\n",
    "        l = loss(y_hat,y).sum()\n",
    "        l.backward()\n",
    "        d2l.sgd(params,lr,batch_size)\n",
    "        n+=y.shape[0]\n",
    "        train_l_sum+=l.item()\n",
    "        train_acc_sum+=(y_hat.argmax(dim=1)==y).sum().item()\n",
    "        for param in params:\n",
    "            param.grad.data.zero_()\n",
    "    test_acc=d2l.evaluate_accuracy(test_iter,net)\n",
    "    print('epoch:%d, loss:%.3f, train acc:%.4f, test acc:%.4f'%(epoch,train_l_sum/n,train_acc_sum/n,test_acc))"
   ]
  },
  {
   "cell_type": "code",
   "execution_count": null,
   "metadata": {},
   "outputs": [],
   "source": []
  }
 ],
 "metadata": {
  "kernelspec": {
   "display_name": "Python 3",
   "language": "python",
   "name": "python3"
  },
  "language_info": {
   "codemirror_mode": {
    "name": "ipython",
    "version": 3
   },
   "file_extension": ".py",
   "mimetype": "text/x-python",
   "name": "python",
   "nbconvert_exporter": "python",
   "pygments_lexer": "ipython3",
   "version": "3.7.5"
  }
 },
 "nbformat": 4,
 "nbformat_minor": 2
}
