{
 "cells": [
  {
   "cell_type": "markdown",
   "metadata": {},
   "source": [
    "## 填充和步幅\n",
    "一般来说，假设输入的形状是$ n_h \\times n_w $，卷积核窗口形状是$ k_h\\times k_w $，那么输出的形状是：\n",
    "<center>\n",
    "    $ (n_h-k_h+1)\\times(n_w-k_w+1) $\n",
    "</center>"
   ]
  },
  {
   "cell_type": "markdown",
   "metadata": {},
   "source": [
    "所以卷积层的输出形状由输入形状和卷积核窗口形状决定。本节我们将介绍卷积层的两个超参数，即**填充和步幅**。它们可以对给定形状的输入和卷积核改变输出形状。"
   ]
  },
  {
   "cell_type": "markdown",
   "metadata": {},
   "source": [
    "### 填充\n",
    "填充$（padding）$是指在输入高和宽的两侧填充元素（通常是$0$元素）。我们在$5.2$的原输入高和宽的两侧分别添加了值为$0$的元素，使得输入高和宽从$3$变成了$5$，并导致输出高和宽由$2$增加到$4$。$5.2$中的阴影部分为第一个输出元素及其计算所使用的输入和核数组元素：$0\\times 0+0\\times 1+0\\times 2+0\\times 3=0$。\n",
    "\n",
    "\n",
    "<center>\n",
    "    $ \\begin{pmatrix} \\mathbf{0}&\\mathbf{0}&0&0&0\\\\\\mathbf{0}&\\mathbf{0}&1&2&0\\\\0&3&4&5&0\\\\0&6&7&8&0\\\\0&0&0&0&0 \\end{pmatrix}$ * $ \\begin{pmatrix} 0&1\\\\2&3 \\end{pmatrix}  $ = $ \\begin{pmatrix} \\mathbf{0}&3&8&4\\\\9&19&25&10\\\\21&37&43&16\\\\6&7&8&0 \\end{pmatrix}  $\n",
    "</center>\n",
    "\n",
    "一般来说，如果在高的两侧一共填充$p_h$行，在宽的两侧一共填充$p_w$列，那么输出形状将会是\n",
    "\n",
    "<center>\n",
    "    $ (n_h+p_h-k_h+1)\\times (n_w+p+w-k_w+1) $\n",
    "</center>\n",
    "\n",
    "也就是说，输出的高和宽会分别增加$p_h$和$p_w$\n",
    "\n",
    "在很多情况下，我们会设置$p_h=k_h−1$和$p_w=k_w−1$来使输入和输出具有相同的高和宽。这样会方便在构造网络时推测每个层的输出形状。假设这里$k_h$是奇数，我们会在高的两侧分别填充$p_h/2$行。如果$k_h$是偶数，一种可能是在输入的顶端一侧填充$⌈p_h/2⌉$行，而在底端一侧填充$⌊p_h/2⌋$行。在宽的两侧填充同理。\n",
    "\n",
    "卷积神经网络经常使用奇数高宽的卷积核，如$1$、$3$、$5$和$7$，所以两端上的填充个数相等。对任意的二维数组$X$，设它的第$i$行第$j$列的元素为$X[i,j]$。**当两端上的填充个数相等，并使输入和输出具有相同的高和宽时，我们就知道输出$Y[i,j]$是由输入以$X[i,j]$为中心的窗口同卷积核进行互相关计算得到的**。\n",
    "\n",
    "下面的例子里我们创建一个高和宽为$3$的二维卷积层，然后设输入高和宽两侧的填充数分别为$1$。给定一个高和宽为$8$的输入，我们发现输出的高和宽也是$8$。"
   ]
  }
 ],
 "metadata": {
  "kernelspec": {
   "display_name": "Python 3",
   "language": "python",
   "name": "python3"
  },
  "language_info": {
   "codemirror_mode": {
    "name": "ipython",
    "version": 3
   },
   "file_extension": ".py",
   "mimetype": "text/x-python",
   "name": "python",
   "nbconvert_exporter": "python",
   "pygments_lexer": "ipython3",
   "version": "3.7.5"
  }
 },
 "nbformat": 4,
 "nbformat_minor": 2
}
