{
 "cells": [
  {
   "cell_type": "markdown",
   "metadata": {},
   "source": [
    "## 线性回归预测房屋价格"
   ]
  },
  {
   "cell_type": "markdown",
   "metadata": {},
   "source": [
    "假设模型样本数为$ｎ$，索引ｉ的特征为${x}^{(i)}_1$与${x}^{(i)}_2$，标签为$\\hat{y}^{(i)}$。那么线性回归模型为：\n",
    "\n",
    "$\\hat{y}^{(i)}={x}^{(i)}_1\\times w_1+{x}^{(i)}_2\\times w_2+b$"
   ]
  },
  {
   "cell_type": "markdown",
   "metadata": {},
   "source": [
    "$loss function:$ $l(w_1,w_2,b)= $ $ \\frac{1}{n} \\sum_{i=1}^n \\frac{1}{2}(\\hat{y}^{(i)}-y^{(i)})^2 $ $ =\\frac{1}{n} \\sum_{i=1}^n \\frac{1}{2}({x}^{(i)}_1\\times w_1+{x}^{(i)}_2\\times w_2+b-y^{(i)})^2$\n",
    "\n",
    "训练目标为找到一组参数使得：$w_1^*,w_2^*,b^*=argminl(w_1,w_2,b)$"
   ]
  },
  {
   "cell_type": "markdown",
   "metadata": {},
   "source": [
    "模型矢量计算表达式：\n",
    "\n",
    "$l(\\theta)=\\frac{1}{2n}(\\hat{y}-y)^T(\\hat{y}-y)$\n",
    "\n",
    "$\\theta \\leftarrow \\theta-\\frac{\\eta}{|\\beta|} \\sum_{i\\epsilon \\beta}\\Delta_\\theta l^{(i)}(\\theta)$\n",
    "\n",
    "$ \\Delta_\\theta l^{(i)}(\\theta) = \\begin {pmatrix} \\frac{\\partial l^{(i)}(w_1,w_2,b)}{\\partial w_1} \\\\ \\frac{\\partial l^{(i)}(w_1,w_2,b)}{\\partial w_2} \\\\\n",
    "\\frac{\\partial l^{(i)}(w_1,w_2,b)}{\\partial b} \\end {pmatrix}\n",
    "=\\begin {pmatrix} x_1^{(i)}({x}^{(i)}_1\\times w_1+{x}^{(i)}_2\\times w_2+b-y^{(i)}) \\\\ x_2^{(i)}({x}^{(i)}_1\\times w_1+{x}^{(i)}_2\\times w_2+b-y^{(i)}) \\\\  {x}^{(i)}_1\\times w_1+{x}^{(i)}_2\\times w_2+b-y^{(i)} \\end {pmatrix}$\n",
    "\n",
    "=$ \\begin {pmatrix} x_1{(i)} \\\\ x_2{(i)} \\\\ b \\end {pmatrix} (\\hat{y}^{(i)}-y^{(i)}) $"
   ]
  }
 ],
 "metadata": {
  "kernelspec": {
   "display_name": "Python 3",
   "language": "python",
   "name": "python3"
  },
  "language_info": {
   "codemirror_mode": {
    "name": "ipython",
    "version": 3
   },
   "file_extension": ".py",
   "mimetype": "text/x-python",
   "name": "python",
   "nbconvert_exporter": "python",
   "pygments_lexer": "ipython3",
   "version": "3.7.5"
  }
 },
 "nbformat": 4,
 "nbformat_minor": 2
}
