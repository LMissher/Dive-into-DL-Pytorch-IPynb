{
 "cells": [
  {
   "cell_type": "markdown",
   "metadata": {},
   "source": [
    "## 多层感知机的间接实现"
   ]
  },
  {
   "cell_type": "code",
   "execution_count": 1,
   "metadata": {},
   "outputs": [],
   "source": [
    "import torch\n",
    "from torch import nn\n",
    "from torch.nn import init\n",
    "import numpy as np\n",
    "import sys\n",
    "sys.path.append(\"..\") \n",
    "import d2lzh_pytorch as d2l"
   ]
  },
  {
   "cell_type": "code",
   "execution_count": 2,
   "metadata": {},
   "outputs": [],
   "source": [
    "num_inputs, num_outputs, num_hiddens = 784, 10, 256\n",
    "\n",
    "net = nn.Sequential(\n",
    "    d2l.FlattenLayer(),\n",
    "    nn.Linear(num_inputs,num_hiddens),\n",
    "    nn.ReLU(),\n",
    "    nn.Linear(num_hiddens,num_outputs),\n",
    ")\n",
    "\n",
    "for param in net.parameters():\n",
    "    init.normal_(param, mean=0, std=0.01)"
   ]
  },
  {
   "cell_type": "code",
   "execution_count": 3,
   "metadata": {},
   "outputs": [
    {
     "name": "stdout",
     "output_type": "stream",
     "text": [
      "epoch:1, loss:0.004, train acc:0.6515, test acc:0.7464\n",
      "epoch:2, loss:0.002, train acc:0.7892, test acc:0.7997\n",
      "epoch:3, loss:0.002, train acc:0.8176, test acc:0.7917\n",
      "epoch:4, loss:0.002, train acc:0.8322, test acc:0.8320\n",
      "epoch:5, loss:0.002, train acc:0.8419, test acc:0.8048\n"
     ]
    }
   ],
   "source": [
    "batch_size = 256\n",
    "train_iter, test_iter = d2l.load_data_fashion_mnist(batch_size)\n",
    "loss = torch.nn.CrossEntropyLoss()\n",
    "\n",
    "optimizer = torch.optim.SGD(net.parameters(),lr=0.1)\n",
    "\n",
    "epochs=5\n",
    "\n",
    "for epoch in range(1,epochs+1):\n",
    "    train_l_sum, train_acc_sum, n = 0.0, 0.0, 0\n",
    "    for X,y in train_iter:\n",
    "        y_hat=net(X)\n",
    "        l = loss(y_hat,y).sum()\n",
    "        l.backward()\n",
    "        optimizer.step()\n",
    "        n+=y.shape[0]\n",
    "        train_l_sum+=l.item()\n",
    "        train_acc_sum+=(y_hat.argmax(dim=1)==y).sum().item()\n",
    "        optimizer.zero_grad()\n",
    "    test_acc=d2l.evaluate_accuracy(test_iter,net)\n",
    "    print('epoch:%d, loss:%.3f, train acc:%.4f, test acc:%.4f'%(epoch,train_l_sum/n,train_acc_sum/n,test_acc))"
   ]
  },
  {
   "cell_type": "code",
   "execution_count": null,
   "metadata": {},
   "outputs": [],
   "source": []
  }
 ],
 "metadata": {
  "kernelspec": {
   "display_name": "Python 3",
   "language": "python",
   "name": "python3"
  },
  "language_info": {
   "codemirror_mode": {
    "name": "ipython",
    "version": 3
   },
   "file_extension": ".py",
   "mimetype": "text/x-python",
   "name": "python",
   "nbconvert_exporter": "python",
   "pygments_lexer": "ipython3",
   "version": "3.7.5"
  }
 },
 "nbformat": 4,
 "nbformat_minor": 2
}
