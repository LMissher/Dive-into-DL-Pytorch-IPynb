{
 "cells": [
  {
   "cell_type": "markdown",
   "metadata": {},
   "source": [
    "## softmax回归"
   ]
  },
  {
   "cell_type": "markdown",
   "metadata": {},
   "source": [
    "假设有四个特征与三个输出动物类别，那么权重将包括$12$个标量、偏差包含$3$个标量，且对每个输入计算$o_1$，$o_2$，$o_3$这$3$个输出：\n",
    "\n",
    "$o1 = x_1w_{11}+x_2w_{21}+x_3w_{31}+x_4w_{41}+b_1$\n",
    "$o2 = x_1w_{12}+x_2w_{22}+x_3w_{32}+x_4w_{42}+b_2$\n",
    "$o3 = x_1w_{13}+x_2w_{23}+x_3w_{33}+x_4w_{43}+b_3$\n",
    "\n",
    "$softmax$回归与线性回归一样，也是一个单层神经网络。由于每个输出都要依赖于所有的输入，$softmax$回归的输出层也是一个全连接层。"
   ]
  },
  {
   "cell_type": "markdown",
   "metadata": {},
   "source": [
    "$softmax$运算符（$softmax operator$）解决了如何使用输出的问题。它通过下式将输出值变换成**值为正且和为1的概率分布**：\n",
    "<center>\n",
    "$\\hat{y}_1$,$\\hat{y}_2$,$\\hat{y}_3$ $=$ $softmax(o_1,o_2,o_3)$\n",
    "</center>\n",
    "其中\n",
    "<center>\n",
    "$ \\hat{y}_1=\\frac{exp(o_1)}{\\sum_{i=1}^3exp(o_i)} $, \n",
    "$ \\hat{y}_3=\\frac{exp(o_2)}{\\sum_{i=1}^3exp(o_i)} $\n",
    "$ \\hat{y}_3=\\frac{exp(o_3)}{\\sum_{i=1}^3exp(o_i)} $\n",
    "</center>\n",
    "容易看出$ \\hat{y}_1+\\hat{y}_2+\\hat{y}_3=1 $且$ 0\\le \\hat{y}_1,\\hat{y}_2,\\hat{y}_3 \\le 1 $，因此是一个合法的概率分布。这时候，如果$\\hat{y}_2=0.8$，那么这就是它为某个动物的概率。另外注意到：\n",
    "<center>\n",
    "$ argmaxo_i = argmax \\hat{y}_i $\n",
    "</center>\n",
    "因此$softmax$运算不改变预测类别输出"
   ]
  },
  {
   "cell_type": "markdown",
   "metadata": {},
   "source": [
    "**单样本分类的矢量计算表达式：**\n",
    "<center>\n",
    "$ \\mathbf{W} = \\begin {pmatrix} w_{11}&w_{21}&w_{31}&w_{41} \\\\\n",
    "w_{12}&w_{22}&w_{32}&w_{42} \\\\ w_{13}&w_{23}&w_{33}&w_{43}\n",
    "\\end {pmatrix}$, \n",
    "$ \\mathbf{b}= \\begin {pmatrix} b_1\\\\b_2\\\\b_3 \\end {pmatrix}$\n",
    "</center>\n",
    "<center>\n",
    "$ \\mathbf{x}^{(i)} = \\begin {pmatrix} x_1^{(i)}\\\\x_2^{(i)}\\\\x_3^{(i)}\\\\x_4^{(i)} \\end {pmatrix} $, \n",
    "$ \\mathbf{o}^{(i)} =  \\begin {pmatrix} o_1^{(i)}\\\\o_2^{(i)}\\\\o_3^{(i)} \\end {pmatrix}$, \n",
    "$ \\hat{\\mathbf{y}}^{(i)} =  \\begin {pmatrix} \\hat{y}_1^{(i)}\\\\ \\hat{y}_2^{(i)}\\\\ \\hat{y}_3^{(i)} \\end {pmatrix}$\n",
    "</center>    \n",
    "<center>\n",
    "$ \\mathbf{o}^{(i)} = \\mathbf{W}\\mathbf{x}^{(i)}+\\mathbf{b} $\n",
    "</center>    \n",
    "<center>\n",
    "$ \\hat{\\mathbf{y}}^{(i)}=softmax(\\mathbf{o}^{(i)}) $\n",
    "</center>"
   ]
  },
  {
   "cell_type": "markdown",
   "metadata": {},
   "source": [
    "**小批量样本分类的矢量计算表达式**：\n",
    "\n",
    "假设输入样本为n，特征数为d，输出个数为q。则批量特征$ \\mathbf{X}\\epsilon \\mathbb{R}^{d\\times n} $。假设回归权重和偏差参数分别为$ \\mathbf{W}\\epsilon \\mathbb{R}^{q\\times d}$和$ \\mathbf{b}\\epsilon \\mathbb{R}^{q\\times 1} $。则softmax回归的小批量矢量计算表达式为：\n",
    "<center>\n",
    "$ \\mathbf{O}=\\mathbf{W}\\mathbf{X}+\\mathbf{b} $\n",
    "</center>\n",
    "<center>\n",
    "$ \\hat{\\mathbf{Y}}=softmax(\\mathbf{O}) $\n",
    "</center>\n",
    "\n",
    "其中加法运算运用了广播机制，$ \\mathbf{O},\\hat{\\mathbf{Y}}\\epsilon \\mathbb{R}^{q\\times n} $且这两个矩阵的第$i$列分别为样本$i$的输出$ \\mathbf{o}^{(i)} $和概率分布$ \\hat{\\mathbf{y}}^{(i)} $"
   ]
  },
  {
   "cell_type": "markdown",
   "metadata": {},
   "source": [
    "**交叉熵**$(cross$ $entropy)$:\n",
    "<center>\n",
    "$ \\mathbf{H(y^{(i)},\\hat{y}^{(i)})} = -\\sum_{j=1}^qy_j^{(i)}log\\hat{y}_j^{(i)} $\n",
    "</center>\n",
    "当单标签时中只有一个元素为$1$，其他全为$0$，于是$ \\mathbf{H(y^{(i)},\\hat{y}^{(i)})} = -log\\hat{y}_{idx}^{(i)} $\n",
    "\n",
    "**假设训练数据集的样本数为n，交叉熵损失函数定义为**：\n",
    "<center>\n",
    "$ l(\\Theta) = \\frac{1}{n}\\sum_{i=1}^n\\mathbf{H(y^{(i)},\\hat{y}^{(i)})}$\n",
    "</center>"
   ]
  },
  {
   "cell_type": "markdown",
   "metadata": {},
   "source": [
    "**模型预测及评价**：\n",
    "\n",
    "在训练好$softmax$回归模型后，给定任一样本特征，就可以预测每个输出类别的概率。通常，我们把预测概率最大的类别作为输出类别。如果它与真实类别（标签）一致，说明这次预测是正确的。"
   ]
  },
  {
   "cell_type": "markdown",
   "metadata": {},
   "source": [
    "**小结**：\n",
    "\n",
    "$softmax$回归适用于分类问题。它使用$softmax$运算输出**类别的概率分布**。\n",
    "\n",
    "$softmax$回归是一个单层神经网络，输出个数等于分类问题中的类别个数。\n",
    "\n",
    "**交叉熵**适合衡量两个**概率分布**的差异。"
   ]
  }
 ],
 "metadata": {
  "kernelspec": {
   "display_name": "Python 3",
   "language": "python",
   "name": "python3"
  },
  "language_info": {
   "codemirror_mode": {
    "name": "ipython",
    "version": 3
   },
   "file_extension": ".py",
   "mimetype": "text/x-python",
   "name": "python",
   "nbconvert_exporter": "python",
   "pygments_lexer": "ipython3",
   "version": "3.7.5"
  }
 },
 "nbformat": 4,
 "nbformat_minor": 2
}
