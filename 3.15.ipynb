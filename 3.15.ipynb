{
 "cells": [
  {
   "cell_type": "markdown",
   "metadata": {},
   "source": [
    "## 数值稳定性与模型初始化"
   ]
  },
  {
   "cell_type": "markdown",
   "metadata": {},
   "source": [
    "**衰减与爆炸**\n",
    "\n",
    "当神经网络的层数较多时，模型的数值稳定性容易变差。假设一个层数为$L$的多层感知机的第$l$层$\\mathbf{H}^{l}$的权重参数为$\\mathbf{W}^{(l)}$，输出层$\\mathbf{H}^{(L)}$的权重参数为$\\mathbf{W}^{(L)}$。便于讨论不考虑偏差参数，且设所有隐藏层的激活函数为恒等映射$（identity mapping）$$ \\phi(x)=x $。给定输入$\\mathbf{X}$，多层感知机的第l层的输出$\\mathbf{H}^{(L)}=\\mathbf{X}\\mathbf{W}^{(1)}\\mathbf{W}^{(2)}...\\mathbf{W}^{(l)}$。此时，如果层数$l$较大，$\\mathbf{H}^{(L)}$的计算可能出现衰减与爆炸。例如输入和所有层的权重参数都是标量，如权重参数为$0.2$和$5$，多层感知机的第$30$层输出为输入$\\mathbf{X}$分别与$0.2^{30}\\approx1\\times 10^{-21}$（衰减）和$5^{30}\\approx 9\\times 10^{20}$（爆炸）的乘积。当然如果层数较多梯度的计算也更容易出现衰减与爆炸。"
   ]
  },
  {
   "cell_type": "markdown",
   "metadata": {},
   "source": [
    "**随机初始化模型参数**\n",
    "\n",
    "在神经网络中，通常需要随机初始化模型参数。\n",
    "\n",
    "如果将每个隐藏单元的参数都初始化为相等的值，那么在正向传播时每个隐藏单元将根据相同的输入计算出相同的值，并传递至输出层。在反向传播中，每个隐藏单元的参数梯度值相等。因此，这些参数在使用基于梯度的优化算法迭代后值依然相等。之后的迭代也是如此。在这种情况下，无论隐藏单元有多少，隐藏层本质上只有1个隐藏单元在发挥作用。因此，正如在前面的实验中所做的那样，我们通常将神经网络的模型参数，特别是权重参数，进行随机初始化。"
   ]
  },
  {
   "cell_type": "markdown",
   "metadata": {},
   "source": [
    "**pytorch的默认随机初始化**\n",
    "\n",
    "在$3.3$节（线性回归的简洁实现）中，我们使用$torch.nn.init.normal_()$使模型$net$的权重参数采用正态分布的随机初始化方式。不过，$PyTorch$中$nn.Module$的模块参数都采取了较为合理的初始化策略（不同类型的$layer$具体采样的哪一种初始化方法的可参考源代码），因此一般不用我们考虑。"
   ]
  },
  {
   "cell_type": "markdown",
   "metadata": {},
   "source": [
    "**Xavier随机初始化**\n",
    "\n",
    "还有一种比较常用的随机初始化方法叫作$Xavier$随机初始化。 假设某全连接层的输入个数为$a$，输出个数为$b$，$Xavier$随机初始化将使该层中权重参数的每个元素都随机采样于均匀分布\n",
    "\n",
    "<center>\n",
    "    $ U(-\\sqrt{\\frac{6}{a+b}},\\sqrt{\\frac{6}{a+b}}) $\n",
    "</center>\n",
    "\n",
    "它的设计主要考虑到，模型参数初始化后，**每层输出的方差不该受该层输入个数影响，且每层梯度的方差也不该受该层输出个数影响**。"
   ]
  }
 ],
 "metadata": {
  "kernelspec": {
   "display_name": "ve",
   "language": "python",
   "name": "ve"
  },
  "language_info": {
   "codemirror_mode": {
    "name": "ipython",
    "version": 3
   },
   "file_extension": ".py",
   "mimetype": "text/x-python",
   "name": "python",
   "nbconvert_exporter": "python",
   "pygments_lexer": "ipython3",
   "version": "3.6.4"
  }
 },
 "nbformat": 4,
 "nbformat_minor": 2
}
