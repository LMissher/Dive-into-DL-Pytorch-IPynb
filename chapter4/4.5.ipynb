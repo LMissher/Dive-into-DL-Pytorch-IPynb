{
 "cells": [
  {
   "cell_type": "markdown",
   "metadata": {},
   "source": [
    "## 读取和存储"
   ]
  },
  {
   "cell_type": "markdown",
   "metadata": {},
   "source": [
    "### 读写\n",
    "我们可以直接使用$save$函数和$load$函数分别存储和读取$Tensor$。$save$使用$Python$的$pickle$实用程序将对象进行序列化，然后将序列化的对象保存到$disk$，使用$save$可以保存各种对象,包括模型、张量和字典等。而$laod$使用$pickle$ $unpickle$工具将$pickle$的对象文件反序列化为内存。"
   ]
  },
  {
   "cell_type": "code",
   "execution_count": 1,
   "metadata": {},
   "outputs": [],
   "source": [
    "import torch\n",
    "from torch import nn\n",
    "\n",
    "x = torch.ones(3)\n",
    "torch.save(x, 'D:\\\\x.pt')"
   ]
  },
  {
   "cell_type": "code",
   "execution_count": 2,
   "metadata": {},
   "outputs": [
    {
     "data": {
      "text/plain": [
       "tensor([1., 1., 1.])"
      ]
     },
     "execution_count": 2,
     "metadata": {},
     "output_type": "execute_result"
    }
   ],
   "source": [
    "x1 = torch.load('D:\\\\x.pt')\n",
    "x1"
   ]
  },
  {
   "cell_type": "code",
   "execution_count": 3,
   "metadata": {},
   "outputs": [
    {
     "data": {
      "text/plain": [
       "[tensor([1., 1., 1.]), tensor([0., 0., 0., 0.])]"
      ]
     },
     "execution_count": 3,
     "metadata": {},
     "output_type": "execute_result"
    }
   ],
   "source": [
    "y = torch.zeros(4)\n",
    "torch.save([x, y], 'D:\\\\xy.pt')\n",
    "xy_lst = torch.load('D:\\\\xy.pt')\n",
    "xy_lst"
   ]
  },
  {
   "cell_type": "code",
   "execution_count": 4,
   "metadata": {},
   "outputs": [
    {
     "data": {
      "text/plain": [
       "{'x': tensor([1., 1., 1.]), 'y': tensor([0., 0., 0., 0.])}"
      ]
     },
     "execution_count": 4,
     "metadata": {},
     "output_type": "execute_result"
    }
   ],
   "source": [
    "torch.save({'x':x, 'y':y}, 'D:\\\\xy_dict.pt')\n",
    "xy = torch.load('D:\\\\xy_dict.pt')\n",
    "xy"
   ]
  },
  {
   "cell_type": "markdown",
   "metadata": {},
   "source": [
    "### 读写模型\n",
    "$state\\_dict$是一个从参数名称隐射到参数$Tesnor$的字典对象。"
   ]
  },
  {
   "cell_type": "code",
   "execution_count": 5,
   "metadata": {},
   "outputs": [
    {
     "data": {
      "text/plain": [
       "OrderedDict([('hidden.weight', tensor([[ 0.3414, -0.1283, -0.1883],\n",
       "                      [ 0.2042, -0.3281, -0.4847]])),\n",
       "             ('hidden.bias', tensor([ 0.1204, -0.5167])),\n",
       "             ('output.weight', tensor([[0.0209, 0.0625]])),\n",
       "             ('output.bias', tensor([0.0171]))])"
      ]
     },
     "execution_count": 5,
     "metadata": {},
     "output_type": "execute_result"
    }
   ],
   "source": [
    "class MLP(nn.Module):\n",
    "    def __init__(self):\n",
    "        super(MLP, self).__init__()\n",
    "        self.hidden = nn.Linear(3, 2)\n",
    "        self.act = nn.ReLU()\n",
    "        self.output = nn.Linear(2, 1)\n",
    "        \n",
    "    def forward(self, x):\n",
    "        a = self.act(self.hidden(x))\n",
    "        return self.output(a)\n",
    "\n",
    "net = MLP()\n",
    "net.state_dict()"
   ]
  },
  {
   "cell_type": "markdown",
   "metadata": {},
   "source": [
    "注意，只有具有可学习参数的层(卷积层、线性层等)才有$state\\_dict$中的条目。优化器$(optim)$也有一个$state\\_dict$，其中包含关于优化器状态以及所使用的超参数的信息。"
   ]
  },
  {
   "cell_type": "code",
   "execution_count": 6,
   "metadata": {},
   "outputs": [
    {
     "data": {
      "text/plain": [
       "{'state': {},\n",
       " 'param_groups': [{'lr': 0.001,\n",
       "   'momentum': 0.9,\n",
       "   'dampening': 0,\n",
       "   'weight_decay': 0,\n",
       "   'nesterov': False,\n",
       "   'params': [1612452479984, 1612452480128, 1612452480200, 1612452480272]}]}"
      ]
     },
     "execution_count": 6,
     "metadata": {},
     "output_type": "execute_result"
    }
   ],
   "source": [
    "optimizer = torch.optim.SGD(net.parameters(), lr=0.001, momentum=0.9)\n",
    "optimizer.state_dict()"
   ]
  },
  {
   "cell_type": "markdown",
   "metadata": {},
   "source": [
    "**保存和加载模型**\n",
    "PyTorch中保存和加载训练模型有两种常见的方法:\n",
    "+ 仅保存和加载模型参数(state_dict)\n",
    "+ 保存和加载整个模型"
   ]
  },
  {
   "cell_type": "markdown",
   "metadata": {},
   "source": [
    "**保存和加载state_dict(推荐方式)**\n",
    "\n",
    "保存：\n",
    "\n",
    "torch.save(modle.state_dict(), PATH)\n",
    "\n",
    "加载：\n",
    "\n",
    "modle = torch.load(PATH)"
   ]
  },
  {
   "cell_type": "code",
   "execution_count": 7,
   "metadata": {},
   "outputs": [
    {
     "data": {
      "text/plain": [
       "tensor([[1],\n",
       "        [1]], dtype=torch.uint8)"
      ]
     },
     "execution_count": 7,
     "metadata": {},
     "output_type": "execute_result"
    }
   ],
   "source": [
    "X = torch.randn(2,3)\n",
    "Y = net(X)\n",
    "\n",
    "PATH = \"D:\\\\net.pt\"\n",
    "torch.save(net.state_dict(), PATH)\n",
    "\n",
    "net1 = MLP()\n",
    "net1.load_state_dict(torch.load(PATH))\n",
    "Y1 = net1(X)\n",
    "# net1和net参数一样所以输出结果一样\n",
    "Y1 == Y"
   ]
  },
  {
   "cell_type": "markdown",
   "metadata": {},
   "source": [
    "+ 通过save函数和load函数可以很方便地读写Tensor。\n",
    "+ 通过save函数和load_state_dict函数可以很方便地读写模型的参数。"
   ]
  }
 ],
 "metadata": {
  "kernelspec": {
   "display_name": "ve",
   "language": "python",
   "name": "ve"
  },
  "language_info": {
   "codemirror_mode": {
    "name": "ipython",
    "version": 3
   },
   "file_extension": ".py",
   "mimetype": "text/x-python",
   "name": "python",
   "nbconvert_exporter": "python",
   "pygments_lexer": "ipython3",
   "version": "3.6.4"
  }
 },
 "nbformat": 4,
 "nbformat_minor": 2
}
