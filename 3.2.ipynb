{
 "cells": [
  {
   "cell_type": "markdown",
   "metadata": {},
   "source": [
    "## 线性回归的从零开始实现"
   ]
  },
  {
   "cell_type": "code",
   "execution_count": 1,
   "metadata": {},
   "outputs": [],
   "source": [
    "%matplotlib inline\n",
    "import torch\n",
    "from IPython import display\n",
    "from matplotlib import pyplot as plt\n",
    "import numpy as np\n",
    "import random"
   ]
  },
  {
   "cell_type": "markdown",
   "metadata": {},
   "source": [
    "样本特征$X\\epsilon \\mathbb R^{1000\\times 2}$\n",
    "\n",
    "假设真实权重为：$w=[2,-2]^T$和偏差：$b=5.5$以及随即噪声项来生成标签\n",
    "\n",
    "$y=Xw+b+\\epsilon$\n",
    "\n",
    "噪声项服从均值为$0$，标准差为$0.01$的正态分布"
   ]
  },
  {
   "cell_type": "code",
   "execution_count": 2,
   "metadata": {},
   "outputs": [
    {
     "data": {
      "text/plain": [
       "tensor([ 7.6909e+00,  3.5171e+00,  6.7005e+00,  6.0430e+00,  4.1483e+00,\n",
       "         1.0069e+01,  5.2007e+00,  5.2973e+00,  7.7037e+00,  2.3417e+00,\n",
       "         3.2746e+00,  6.5421e+00,  5.9689e+00,  3.8972e+00,  7.8409e+00,\n",
       "         3.9663e+00,  4.4344e+00,  4.3075e+00,  1.6344e+00,  2.3856e+00,\n",
       "         5.0586e+00,  1.0182e+01,  3.6374e+00,  5.0535e+00,  2.5500e+00,\n",
       "         8.2227e+00,  8.9548e+00,  9.5540e+00,  9.2600e+00,  1.4345e+00,\n",
       "         1.2135e+01, -9.2057e-01, -8.4739e-01,  4.0568e+00,  3.8415e+00,\n",
       "         5.3106e+00,  5.7756e+00,  8.5374e+00,  6.3429e+00,  6.0335e+00,\n",
       "         5.4881e+00,  6.6154e+00,  6.7773e+00,  4.1926e+00,  3.0433e+00,\n",
       "         5.8172e+00,  8.4182e+00,  8.3521e+00,  5.3800e+00,  6.1031e+00,\n",
       "         6.5959e+00,  9.2305e+00,  7.3616e+00,  2.8086e+00,  4.3912e+00,\n",
       "         7.8759e+00,  5.3504e+00,  8.9518e+00,  2.4143e+00,  4.5676e+00,\n",
       "         4.2807e+00,  1.0211e+01,  9.0621e+00,  6.5513e+00,  3.7284e+00,\n",
       "         2.3753e+00,  6.8417e+00,  5.1565e+00, -4.7551e+00,  5.8925e+00,\n",
       "         1.2820e+00,  3.1502e+00,  5.9477e+00,  5.7128e+00,  5.9120e+00,\n",
       "         3.3425e+00,  2.3927e+00,  4.9178e+00,  5.1673e+00,  1.0459e+01,\n",
       "         3.0230e+00,  7.8353e+00,  6.9030e+00,  3.3914e+00,  4.1408e+00,\n",
       "         8.3196e+00,  9.3357e+00,  7.5714e+00,  6.3728e+00, -1.0800e+00,\n",
       "         5.4813e+00,  2.7608e-03,  5.1561e+00,  5.4251e+00,  7.1310e+00,\n",
       "         5.8545e+00,  1.2405e+01,  7.9323e+00,  3.4624e+00,  4.1418e+00,\n",
       "         5.9464e+00,  5.6252e+00,  6.5886e+00,  2.8534e+00,  5.0483e+00,\n",
       "         1.0366e+00,  6.9137e+00,  5.8456e+00,  5.4327e+00,  3.3239e+00,\n",
       "         6.2304e+00,  5.9923e+00,  7.1767e+00,  3.6166e+00,  5.3363e+00,\n",
       "         7.3167e+00,  3.4672e+00,  7.7010e+00,  6.8097e+00,  2.1206e+00,\n",
       "         8.2654e+00,  5.7221e+00,  1.1002e+01,  2.6374e+00,  7.5374e+00,\n",
       "         3.2040e+00,  2.9823e+00,  4.9401e+00,  7.8091e+00,  6.3453e+00,\n",
       "         6.0841e+00,  7.0909e+00,  4.4547e+00, -1.5657e+00,  8.3455e+00,\n",
       "         9.4052e+00,  4.8308e+00,  7.6105e+00,  6.4893e+00,  7.8059e+00,\n",
       "         1.1884e+00,  6.1613e+00,  3.3097e+00,  1.1659e+00,  7.8652e+00,\n",
       "         5.8983e+00,  3.1040e+00,  1.0617e+01,  9.6124e+00,  2.7864e+00,\n",
       "        -7.6361e-01,  4.9527e+00,  7.5838e+00,  6.0664e+00,  4.1956e+00,\n",
       "         6.9935e+00,  1.0446e+00,  4.5299e+00,  7.7797e+00,  1.0351e+01,\n",
       "         2.2885e+00,  8.0432e+00,  7.9538e+00,  7.9356e+00,  9.4254e+00,\n",
       "         3.4665e+00,  1.7025e+00,  7.7848e+00,  1.9267e+00,  5.1026e+00,\n",
       "         3.3120e+00,  4.4153e+00,  6.6275e+00,  4.8893e+00,  6.9586e+00,\n",
       "         8.5609e+00,  4.8351e+00, -8.9121e-01,  3.6189e+00,  8.7558e+00,\n",
       "         5.1337e+00,  9.4598e+00,  3.5486e+00,  3.8558e+00,  3.7008e+00,\n",
       "         3.9994e+00,  4.9292e+00,  5.4855e+00,  4.2042e+00,  1.9370e+00,\n",
       "         3.6544e+00,  1.2667e+01,  8.1014e+00,  8.9020e+00,  5.8424e+00,\n",
       "         6.8561e+00,  1.0059e+01,  8.5574e+00,  3.5981e-01,  3.7654e+00,\n",
       "         4.7793e+00,  6.5794e+00,  5.0505e+00,  5.2166e+00,  8.3305e+00,\n",
       "         6.9784e+00,  1.1452e+00,  5.2496e+00,  4.0751e+00,  5.9509e+00,\n",
       "         3.3080e+00,  3.0275e+00,  1.1100e+01,  6.5567e+00,  5.7748e+00,\n",
       "         7.8539e+00,  5.2258e+00,  7.5712e+00,  5.0726e+00,  2.5077e+00,\n",
       "         9.4003e-01,  8.8069e+00,  6.5085e+00,  4.7372e+00,  2.6460e+00,\n",
       "         8.3686e+00,  6.8894e+00,  4.0583e+00,  6.0769e+00,  1.8403e+00,\n",
       "         7.1830e+00,  5.4657e+00,  7.3652e+00,  2.7649e+00,  4.3118e-01,\n",
       "         9.8959e+00,  8.8505e+00,  3.4818e+00,  6.0760e+00,  5.8585e+00,\n",
       "         6.9678e+00,  3.9122e+00,  9.7672e-01,  5.8488e+00,  4.7229e+00,\n",
       "         6.4169e+00,  2.2407e+00,  4.8130e+00,  5.6623e+00,  3.4579e+00,\n",
       "         4.5112e+00,  6.0705e+00,  3.6360e+00,  4.9916e+00,  5.4993e+00,\n",
       "         5.8990e+00,  7.2005e+00,  6.0555e+00,  8.9023e+00,  8.8258e+00,\n",
       "         5.9059e+00,  1.4596e+00,  3.7080e+00,  1.0315e+01, -1.1032e+00,\n",
       "         7.1204e+00,  3.3128e+00,  2.1767e+00,  4.4349e+00,  2.5709e+00,\n",
       "         9.3881e+00,  1.2271e+00,  5.5185e+00,  5.3286e+00,  6.7752e+00,\n",
       "         7.6418e+00,  7.9093e+00,  5.3955e+00,  2.1553e+00,  1.3445e+01,\n",
       "         8.9039e+00,  6.2390e+00,  9.1444e+00,  6.0291e+00,  2.7358e+00,\n",
       "         2.8352e+00,  4.8267e+00,  4.4180e+00,  4.3018e+00,  6.5206e+00,\n",
       "         6.9182e+00,  4.4085e+00,  2.9593e+00,  8.7201e+00,  6.1041e+00,\n",
       "         5.9818e-01,  3.1268e+00,  6.3282e+00,  8.5235e+00,  4.7218e+00,\n",
       "         3.2851e-01,  3.9732e+00, -8.5018e-02,  5.8800e+00,  8.1879e+00,\n",
       "         3.9768e+00,  1.0521e+00,  1.1484e+01,  4.8774e+00,  6.0337e+00,\n",
       "         4.0686e+00,  7.5105e+00,  3.2682e+00,  7.4367e+00,  8.8420e+00,\n",
       "         1.0427e+01,  4.0764e+00,  7.1152e+00,  3.1662e+00,  9.4544e+00,\n",
       "         4.6175e+00,  7.0718e+00,  9.4429e+00,  4.0600e+00,  2.7836e+00,\n",
       "         5.8145e+00,  4.7961e+00,  4.8995e+00,  8.4603e+00,  5.1438e+00,\n",
       "         1.5222e+00,  6.5073e+00,  5.2003e+00,  3.3545e+00,  3.9942e+00,\n",
       "         8.7508e+00,  4.3494e+00,  3.5296e+00,  1.0832e+01,  1.0631e+01,\n",
       "         6.2548e+00,  5.1346e+00,  1.5183e+00,  2.4438e+00,  4.3593e+00,\n",
       "         3.0414e+00,  6.5737e+00,  2.4308e+00,  8.3961e+00,  5.0666e+00,\n",
       "         1.2019e+01,  5.5227e+00,  3.2120e+00, -3.1162e-02,  3.7750e+00,\n",
       "         7.7876e+00,  3.6555e+00,  3.2944e+00,  9.7698e+00,  8.2612e+00,\n",
       "         7.2711e+00,  6.6422e+00,  1.3084e+00,  4.8102e+00,  7.7620e-01,\n",
       "         5.6706e+00,  1.3472e+01,  6.9552e+00,  6.5125e+00,  1.3705e+01,\n",
       "         7.8312e+00,  6.3154e+00, -1.2873e+00,  6.8646e+00,  4.4641e-01,\n",
       "         4.8624e+00,  7.7737e+00, -1.8231e-01,  4.7038e+00,  2.0311e+00,\n",
       "         2.3933e+00,  6.3509e+00,  7.9352e+00,  5.4759e+00,  2.6812e+00,\n",
       "         7.4741e+00,  1.0902e+01,  3.3264e+00,  5.1112e-01,  5.2107e+00,\n",
       "         4.9221e+00,  6.9330e+00,  5.2589e+00,  3.0199e+00,  1.0164e+01,\n",
       "         5.2881e+00,  2.4361e+00,  9.2978e+00,  7.7152e+00, -4.7829e-01,\n",
       "         8.4996e+00,  1.0975e+01,  4.8166e+00,  6.7215e+00,  7.6274e+00,\n",
       "         4.8260e+00,  6.3807e+00,  3.8540e+00,  3.0028e+00,  4.2901e+00,\n",
       "         5.1396e+00,  4.8537e+00,  5.6895e+00,  2.3069e+00,  8.7162e+00,\n",
       "         9.0788e+00,  4.6401e+00,  8.5868e+00,  6.0930e-01,  8.5073e+00,\n",
       "         7.1743e-01,  6.5985e+00,  7.9411e+00,  7.7886e+00,  1.0272e+01,\n",
       "         3.6524e+00,  8.6477e+00,  5.9540e+00,  5.8607e+00,  3.8872e+00,\n",
       "        -2.0760e-01,  7.9837e+00,  8.4757e+00,  7.2883e+00,  6.0751e+00,\n",
       "         5.8010e+00,  1.0080e+01,  5.7993e+00,  9.0070e+00,  1.6544e+00,\n",
       "         1.0882e+01,  1.1008e+01,  4.8586e+00,  6.5552e+00,  6.8494e+00,\n",
       "         5.9525e+00,  7.9134e+00,  1.0831e+01,  4.2099e+00,  3.9891e+00,\n",
       "         5.5059e+00,  4.8524e+00,  5.8785e+00,  4.0280e+00,  7.0105e+00,\n",
       "         8.4782e+00,  3.6236e+00,  2.3589e+00,  4.1859e+00,  8.9043e+00,\n",
       "         7.5050e+00,  1.8202e+00,  9.5604e+00,  6.9452e+00,  2.5472e+00,\n",
       "         8.3759e+00,  8.3660e+00,  5.9046e+00,  9.4354e+00,  8.5453e+00,\n",
       "         5.0145e+00,  8.8835e+00,  2.2849e+00,  1.7209e+00, -6.2772e-01,\n",
       "         8.1094e+00,  4.8377e+00,  7.2551e+00,  3.4969e+00,  4.5869e+00,\n",
       "         9.9386e+00,  8.8676e+00,  6.6522e+00,  6.9099e+00,  7.7918e+00,\n",
       "         6.0344e+00,  6.9611e+00,  6.3174e+00,  3.4926e+00,  9.3342e+00,\n",
       "         2.2645e+00,  8.5861e+00, -1.1552e+00,  2.2181e+00,  9.5100e+00,\n",
       "         4.4430e+00,  5.8736e+00,  8.4654e+00,  1.6965e+00,  5.1236e+00,\n",
       "         8.6932e+00,  7.3377e+00,  7.2951e-01,  9.3274e+00,  1.3297e+00,\n",
       "         7.9959e+00,  6.1638e+00,  6.4124e+00,  1.1210e+01,  6.8607e+00,\n",
       "         4.3914e+00,  7.0741e+00,  1.2510e+00,  6.4082e+00,  1.9730e+00,\n",
       "         6.8680e+00,  1.3473e+00,  5.8528e+00,  3.2179e+00,  3.4960e+00,\n",
       "         1.0846e+01,  1.0569e+01,  5.8372e+00,  5.8041e+00,  2.8624e+00,\n",
       "         7.9516e+00,  7.9997e+00,  8.1225e+00, -3.6187e+00,  5.4849e+00,\n",
       "         5.1155e+00,  8.6526e+00,  3.4007e+00,  6.2592e+00,  9.9719e+00,\n",
       "         1.1899e+01,  1.0789e+01,  4.1766e+00,  1.8324e+00,  5.9075e+00,\n",
       "         9.0017e+00,  4.5498e+00,  3.1144e+00,  1.9636e+00,  4.9943e+00,\n",
       "         2.0405e+00,  8.7905e+00,  1.4395e+00,  5.8225e+00,  8.6694e+00,\n",
       "         4.8768e+00,  3.3850e+00,  1.1063e+01,  6.6568e-01,  7.6680e+00,\n",
       "         4.3192e+00,  3.0043e+00,  6.7242e+00,  8.5500e+00,  4.3525e+00,\n",
       "         5.0076e+00,  4.9416e+00,  9.5945e+00,  6.4730e+00,  8.7721e+00,\n",
       "         6.1808e+00,  2.1379e+00,  6.9039e+00,  1.2956e+01,  8.2343e+00,\n",
       "         8.0052e+00,  5.2951e-01,  9.4186e+00,  7.8191e+00,  1.9484e+00,\n",
       "         7.2441e+00,  1.0770e+01,  1.0589e+01,  1.1602e+00,  5.7960e+00,\n",
       "         8.0492e+00,  5.0053e+00,  5.6638e+00,  7.7034e+00,  6.0012e+00,\n",
       "         5.3610e+00,  2.1869e+00,  4.8322e+00,  2.7395e+00,  8.9851e+00,\n",
       "         9.0713e+00,  3.8645e+00,  2.4439e+00,  2.7956e+00,  1.6517e+00,\n",
       "         7.5166e+00,  3.7595e+00,  2.3513e+00,  5.4086e+00,  7.2017e+00,\n",
       "         4.8723e+00,  4.2211e+00,  5.8769e+00,  4.6341e+00, -8.8504e-01,\n",
       "         1.1430e+01,  6.9348e+00,  4.7554e+00,  5.4999e+00,  6.0892e+00,\n",
       "         3.1500e+00,  3.6973e+00,  5.7807e+00,  4.8961e+00,  2.9182e+00,\n",
       "         6.4620e+00,  5.7449e+00,  8.8715e+00,  8.1275e+00,  7.6947e+00,\n",
       "         6.2302e+00,  6.5668e+00,  1.0352e+01,  7.1960e+00,  4.8467e+00,\n",
       "         9.9284e+00,  1.9943e+00,  5.9556e+00,  8.2868e+00,  3.3280e+00,\n",
       "         9.8710e+00,  1.5221e+00,  1.0930e+01,  1.2315e+01,  3.7990e+00,\n",
       "         2.2837e+00,  3.2248e+00,  4.5998e+00,  4.0314e+00, -5.0668e-01,\n",
       "         1.1655e+00,  2.7553e+00,  6.2333e+00,  7.7917e+00,  7.3983e+00,\n",
       "         7.7382e+00,  8.4352e+00,  6.2072e+00,  1.0476e+00,  6.0967e+00,\n",
       "         5.9289e+00,  3.2618e+00,  5.7297e+00,  1.1408e+01,  5.1890e+00,\n",
       "         6.7769e+00,  5.3940e+00,  2.6859e+00,  1.0692e+01,  5.9171e-01,\n",
       "         1.4514e+00,  6.4588e+00,  8.3694e+00,  1.3103e+01,  3.7022e+00,\n",
       "         3.8971e+00,  9.7386e+00,  6.7445e+00,  7.3723e+00,  5.0737e+00,\n",
       "         9.8864e+00,  4.5775e+00,  3.9274e+00,  1.7623e+00,  9.5324e-01,\n",
       "         1.8126e+00,  5.6229e+00,  2.2893e+00,  7.6789e+00,  4.2504e+00,\n",
       "         8.6944e+00,  5.2336e+00,  8.9885e+00,  2.5942e+00,  1.0020e+01,\n",
       "         5.8275e+00,  5.9475e+00,  2.9194e+00,  7.4928e+00,  2.6954e+00,\n",
       "         4.8064e+00,  4.7304e+00,  1.5788e+00,  5.0282e+00,  9.8141e+00,\n",
       "         6.6421e+00,  2.7166e+00,  8.4855e+00,  3.4554e+00,  9.4472e+00,\n",
       "         6.1203e+00,  5.4968e-01,  1.5884e+00,  4.0860e+00,  5.6811e+00,\n",
       "         1.3213e+01,  3.9481e+00,  9.2250e+00,  6.8148e+00,  4.4690e+00,\n",
       "         6.9441e+00,  2.7734e+00,  6.5745e+00,  6.5998e+00,  5.5729e+00,\n",
       "         8.1482e+00,  9.6585e+00,  4.1784e+00,  3.7814e+00,  2.0376e+00,\n",
       "        -2.8862e+00,  8.5394e+00,  6.6494e+00,  4.0772e+00,  5.4262e+00,\n",
       "         6.6735e+00,  5.2368e+00,  3.4360e+00,  6.6591e+00,  1.0244e+01,\n",
       "         6.4349e+00,  9.8550e+00,  4.5032e+00,  4.8047e+00,  5.8428e+00,\n",
       "         8.8768e+00,  2.8564e+00,  1.7256e+00,  2.7056e+00,  4.1472e+00,\n",
       "         5.0565e+00,  5.7766e+00,  6.3909e+00,  4.5043e+00,  1.9527e+00,\n",
       "         5.0556e-01,  6.9553e+00,  1.0367e+01,  3.9342e+00,  1.3634e+00,\n",
       "         8.0120e+00,  4.9311e+00,  5.1102e+00,  9.7318e+00,  7.1868e+00,\n",
       "         3.1962e+00,  3.4499e+00, -3.4099e+00,  6.0177e+00,  6.7996e+00,\n",
       "         2.6614e+00,  3.5314e+00,  1.2195e+01,  2.8664e+00,  7.0653e+00,\n",
       "         1.4412e+00,  5.8681e+00,  3.8512e+00, -5.3596e-01,  1.9487e+00,\n",
       "         9.7952e-01,  5.0593e+00, -6.8997e-01,  2.2770e+00,  2.5100e+00,\n",
       "         6.5767e+00,  6.3444e+00,  4.2484e+00,  7.3116e+00,  2.4534e+00,\n",
       "         3.6437e+00,  1.1671e+01, -1.3941e-01,  3.5274e+00,  5.4307e+00,\n",
       "         6.0023e+00,  4.9672e+00,  3.4823e+00,  3.6275e+00,  6.5522e+00,\n",
       "         5.4213e+00,  5.0370e+00,  2.8075e+00,  1.0829e+00,  4.3465e+00,\n",
       "         9.4877e+00,  7.1195e+00,  1.2802e+00,  6.4905e+00,  7.2550e+00,\n",
       "         1.2253e+00,  4.7928e+00,  7.4381e+00,  4.7877e+00,  7.4627e-02,\n",
       "         7.1005e+00,  3.9880e+00,  4.5423e+00,  7.0965e+00,  9.7943e+00,\n",
       "         4.3916e+00,  7.9826e+00,  8.3073e-02,  9.7688e+00,  3.1629e+00,\n",
       "         6.0717e+00,  3.7021e+00,  5.1890e+00,  1.0089e+01,  3.6590e+00,\n",
       "         8.3772e+00,  6.2291e+00,  7.5223e+00,  4.7585e+00,  6.2855e+00,\n",
       "         5.1171e+00,  1.5384e+00,  3.1243e+00,  5.9271e+00,  1.6424e+00,\n",
       "         7.0623e+00,  7.6132e+00,  1.8095e+00,  5.5959e+00,  5.2523e+00,\n",
       "         7.7429e+00,  5.0203e+00,  2.2939e+00,  3.8130e+00,  4.4039e+00,\n",
       "         4.3267e-01,  5.3145e+00,  7.3464e+00,  3.8514e+00,  7.0883e+00,\n",
       "         6.6087e+00,  9.3163e+00,  5.0718e+00,  5.1185e+00,  6.1135e+00,\n",
       "         4.2012e+00,  7.5581e+00,  5.6095e+00,  5.4307e+00,  1.0733e+01,\n",
       "         2.2142e+00,  5.3849e+00,  6.9327e+00,  6.7875e+00,  7.2591e+00,\n",
       "         8.5688e+00,  1.1014e+01,  4.5541e+00,  3.4185e+00,  6.1299e+00,\n",
       "         6.0854e+00,  1.2737e+00,  3.4940e+00,  4.5743e+00,  9.5122e+00,\n",
       "         7.7903e+00,  5.9290e+00,  4.2578e+00,  6.3221e+00,  2.2249e+00,\n",
       "         1.0302e+00,  3.4630e+00,  8.0050e+00,  5.8509e+00,  1.0806e+01,\n",
       "         3.9085e+00,  5.3390e-01,  3.9791e+00,  5.0210e+00,  2.7403e+00,\n",
       "         7.0558e+00,  2.5862e+00,  6.2424e+00, -1.9368e+00,  6.4610e+00,\n",
       "         3.6009e+00,  6.4479e+00,  3.6841e+00,  7.1923e+00,  5.9497e+00,\n",
       "         5.2651e+00,  7.7083e+00,  8.5474e+00,  7.7198e+00,  6.4002e+00,\n",
       "         5.8654e+00,  5.4009e+00,  8.4075e+00,  5.5736e+00,  7.8600e+00,\n",
       "         1.5810e+00,  6.3790e+00,  8.1501e+00,  5.3525e+00,  1.1494e+00,\n",
       "         9.5690e+00,  4.4509e-01,  2.5071e+00,  8.6283e+00,  8.4413e+00,\n",
       "         1.5863e+00,  5.3309e+00,  8.7705e+00,  4.2293e+00,  5.6857e+00,\n",
       "         1.0972e+01,  2.2348e+00,  6.5069e+00,  4.1579e-01,  1.0231e+01,\n",
       "         7.7030e+00, -1.9644e+00,  6.2669e+00,  6.0885e+00,  1.2756e+01,\n",
       "         5.4584e+00,  6.9486e+00,  6.4563e+00,  1.0637e+00,  5.1643e+00,\n",
       "         6.1956e+00,  6.4934e+00,  5.1303e+00,  4.4857e+00,  1.1323e+01,\n",
       "         3.3377e+00,  1.5052e+01,  2.0544e+00,  2.3508e+00,  4.8737e+00,\n",
       "         4.9658e+00,  4.5642e+00,  5.0059e+00,  6.5475e+00,  1.0386e+01,\n",
       "         9.9052e+00,  6.9531e+00,  6.6319e+00,  2.3199e+00,  6.2607e+00,\n",
       "         5.3013e+00,  5.3007e+00,  4.1749e+00,  8.9538e+00,  7.8375e+00,\n",
       "         4.7876e+00,  9.1640e+00,  4.4533e+00,  3.5027e+00,  3.4626e+00,\n",
       "         3.2796e+00,  9.7285e+00,  1.7401e+00,  5.4670e+00,  4.5095e+00,\n",
       "         6.5750e+00,  5.6940e+00,  1.6786e+00,  8.6918e+00,  2.0866e+00,\n",
       "         8.1902e+00,  5.1369e+00,  3.9374e+00,  5.9550e+00,  2.5685e+00,\n",
       "         9.3899e+00,  9.4004e-01,  6.8178e+00,  6.8572e+00,  6.9981e+00,\n",
       "         7.0046e+00,  1.4860e+00,  7.7366e+00,  6.0447e+00,  1.3401e+00,\n",
       "         6.7574e+00,  8.9521e+00,  6.3714e+00, -2.3677e-01,  4.7903e+00,\n",
       "         8.4162e+00,  4.3871e+00,  6.8726e+00,  4.1905e+00,  6.6283e+00])"
      ]
     },
     "execution_count": 2,
     "metadata": {},
     "output_type": "execute_result"
    }
   ],
   "source": [
    "num_features=2\n",
    "num_examples=1000\n",
    "true_w=[2,-2]\n",
    "true_b=5.5\n",
    "examples = torch.randn(num_examples,num_features,dtype=torch.float32)\n",
    "labels = true_w[0]*examples[:,0]+true_w[1]*examples[:,1]+true_b\n",
    "labels+=torch.tensor(np.random.normal(0,0.01,size=labels.size())\n",
    "                    ,dtype=torch.float32)\n",
    "labels"
   ]
  },
  {
   "cell_type": "code",
   "execution_count": 3,
   "metadata": {},
   "outputs": [
    {
     "data": {
      "image/png": "[encoded data removed]",
      "text/plain": [
       "<Figure size 432x288 with 1 Axes>"
      ]
     },
     "metadata": {
      "needs_background": "light"
     },
     "output_type": "display_data"
    }
   ],
   "source": [
    "plt.scatter(examples[:,1].numpy(),labels.numpy(),1)\n",
    "plt.show()"
   ]
  },
  {
   "cell_type": "code",
   "execution_count": 4,
   "metadata": {},
   "outputs": [],
   "source": [
    "def data_iter(batch_size,examples,labels):\n",
    "    num_examples=len(examples)\n",
    "    indices = list(range(num_examples))\n",
    "#     print(indices)\n",
    "    random.shuffle(indices)\n",
    "#     print(indices)\n",
    "    for i in range(0,num_examples,batch_size):\n",
    "        j = torch.LongTensor(indices[i:min(i+batch_size\n",
    "                                           ,num_examples)])\n",
    "#         print(j)\n",
    "        yield examples.index_select(0,j),labels.index_select(0,j)"
   ]
  },
  {
   "cell_type": "code",
   "execution_count": 5,
   "metadata": {},
   "outputs": [],
   "source": [
    "batch_size=10"
   ]
  },
  {
   "cell_type": "code",
   "execution_count": 6,
   "metadata": {},
   "outputs": [],
   "source": [
    "w=torch.tensor(np.random.normal(0,0.01,(num_features,1)),\n",
    "              dtype=torch.float32)\n",
    "b=torch.zeros(1,dtype=torch.float32)\n",
    "# print(w,b)"
   ]
  },
  {
   "cell_type": "code",
   "execution_count": 7,
   "metadata": {},
   "outputs": [
    {
     "data": {
      "text/plain": [
       "tensor([0.], requires_grad=True)"
      ]
     },
     "execution_count": 7,
     "metadata": {},
     "output_type": "execute_result"
    }
   ],
   "source": [
    "w.requires_grad_(True)\n",
    "b.requires_grad_(True)"
   ]
  },
  {
   "cell_type": "markdown",
   "metadata": {},
   "source": [
    "定义模型"
   ]
  },
  {
   "cell_type": "code",
   "execution_count": 8,
   "metadata": {},
   "outputs": [],
   "source": [
    "def linreg(X,w,b):\n",
    "    return torch.mm(X,w)+b"
   ]
  },
  {
   "cell_type": "markdown",
   "metadata": {},
   "source": [
    "定义损失函数"
   ]
  },
  {
   "cell_type": "code",
   "execution_count": 9,
   "metadata": {},
   "outputs": [],
   "source": [
    "def loss_function(y_hat,y):\n",
    "    # 返回向量\n",
    "    return (y_hat-y.view(y_hat.size())) ** 2 / 2"
   ]
  },
  {
   "cell_type": "markdown",
   "metadata": {},
   "source": [
    "定义优化算法"
   ]
  },
  {
   "cell_type": "code",
   "execution_count": 10,
   "metadata": {},
   "outputs": [],
   "source": [
    "def sgd(params,step,batch_size):\n",
    "    for param in params:\n",
    "        param.data -= step*param.grad/batch_size"
   ]
  },
  {
   "cell_type": "code",
   "execution_count": 11,
   "metadata": {},
   "outputs": [
    {
     "name": "stdout",
     "output_type": "stream",
     "text": [
      "epoch 1, loss 2.515351\n",
      "epoch 2, loss 0.326920\n",
      "epoch 3, loss 0.042884\n",
      "epoch 4, loss 0.005710\n",
      "epoch 5, loss 0.000804\n"
     ]
    }
   ],
   "source": [
    "step = 0.01\n",
    "epochs = 5\n",
    "net = linreg\n",
    "loss = loss_function\n",
    "for epoch in range(epochs):\n",
    "    for X,y in data_iter(batch_size,examples,labels):\n",
    "        sum_loss = loss(net(X,w,b),y).sum() #将返回向量求和\n",
    "        sum_loss.backward() #求梯度\n",
    "        sgd([w,b],step,batch_size) #小批量梯度下降法\n",
    "        \n",
    "        # 梯度清零\n",
    "        w.grad.data.zero_()\n",
    "        b.grad.data.zero_()\n",
    "        \n",
    "    loss_epoch = loss(net(examples,w,b),labels)\n",
    "    print('epoch %d, loss %f' \n",
    "          % (epoch+1,loss_epoch.mean().item()))\n"
   ]
  },
  {
   "cell_type": "markdown",
   "metadata": {},
   "source": [
    "$w$，$b$与$w_{true}$，$b_{true}$的比较"
   ]
  },
  {
   "cell_type": "code",
   "execution_count": 12,
   "metadata": {},
   "outputs": [
    {
     "name": "stdout",
     "output_type": "stream",
     "text": [
      "tensor([[ 1.9969],\n",
      "        [-1.9857]], requires_grad=True) \n",
      " [2, -2]\n",
      "tensor([5.4635], requires_grad=True) \n",
      " 5.5\n"
     ]
    }
   ],
   "source": [
    "print(w,'\\n',true_w)\n",
    "print(b,'\\n',true_b)"
   ]
  }
 ],
 "metadata": {
  "kernelspec": {
   "display_name": "Python 3",
   "language": "python",
   "name": "python3"
  },
  "language_info": {
   "codemirror_mode": {
    "name": "ipython",
    "version": 3
   },
   "file_extension": ".py",
   "mimetype": "text/x-python",
   "name": "python",
   "nbconvert_exporter": "python",
   "pygments_lexer": "ipython3",
   "version": "3.7.5"
  }
 },
 "nbformat": 4,
 "nbformat_minor": 2
}
