{
 "cells": [
  {
   "cell_type": "markdown",
   "metadata": {},
   "source": [
    "## 图像分类数据集（Fashion-MNIST）"
   ]
  },
  {
   "cell_type": "markdown",
   "metadata": {},
   "source": [
    "使用$torchvision$包，主要由以下几部分组成：\n",
    "\n",
    "1. $torchvision.datasets$: 一些加载数据的函数及常用的数据集接口；\n",
    "2. $torchvision.models$: 包含常用的模型结构（含预训练模型），例如$AlexNet$、$VGG$、$ResNet$等；\n",
    "3. $torchvision.transforms$: 常用的图片变换，例如裁剪、旋转等；\n",
    "4. $torchvision.utils$: 其他的一些有用的方法。"
   ]
  },
  {
   "cell_type": "code",
   "execution_count": 4,
   "metadata": {},
   "outputs": [],
   "source": [
    "import torch\n",
    "import torchvision\n",
    "import torchvision.transforms as transforms\n",
    "import matplotlib.pyplot as plt\n",
    "import time\n",
    "import sys\n",
    "sys.path.append(\"..\") #导入上层目录\n",
    "import d2lzh_pytorch as d2l"
   ]
  },
  {
   "cell_type": "code",
   "execution_count": 5,
   "metadata": {},
   "outputs": [
    {
     "name": "stderr",
     "output_type": "stream",
     "text": [
      "\r",
      "0it [00:00, ?it/s]"
     ]
    },
    {
     "name": "stdout",
     "output_type": "stream",
     "text": [
      "Downloading http://fashion-mnist.s3-website.eu-central-1.amazonaws.com/train-images-idx3-ubyte.gz to /home/lmissher/DL/Datasets/FashionMNIST/FashionMNIST/raw/train-images-idx3-ubyte.gz\n"
     ]
    },
    {
     "name": "stderr",
     "output_type": "stream",
     "text": [
      " 98%|█████████▊| 25952256/26421880 [00:38<00:00, 603209.00it/s]"
     ]
    },
    {
     "name": "stdout",
     "output_type": "stream",
     "text": [
      "Extracting /home/lmissher/DL/Datasets/FashionMNIST/FashionMNIST/raw/train-images-idx3-ubyte.gz\n"
     ]
    },
    {
     "name": "stderr",
     "output_type": "stream",
     "text": [
      "\n",
      "0it [00:00, ?it/s]\u001b[A"
     ]
    },
    {
     "name": "stdout",
     "output_type": "stream",
     "text": [
      "Downloading http://fashion-mnist.s3-website.eu-central-1.amazonaws.com/train-labels-idx1-ubyte.gz to /home/lmissher/DL/Datasets/FashionMNIST/FashionMNIST/raw/train-labels-idx1-ubyte.gz\n"
     ]
    },
    {
     "name": "stderr",
     "output_type": "stream",
     "text": [
      "\n",
      "  0%|          | 0/29515 [00:00<?, ?it/s]\u001b[A\n",
      " 56%|█████▌    | 16384/29515 [00:00<00:00, 50950.04it/s]\u001b[A\n",
      "32768it [00:01, 32502.39it/s]                           \u001b[A\n",
      "0it [00:00, ?it/s]\u001b[A"
     ]
    },
    {
     "name": "stdout",
     "output_type": "stream",
     "text": [
      "Extracting /home/lmissher/DL/Datasets/FashionMNIST/FashionMNIST/raw/train-labels-idx1-ubyte.gz\n",
      "Downloading http://fashion-mnist.s3-website.eu-central-1.amazonaws.com/t10k-images-idx3-ubyte.gz to /home/lmissher/DL/Datasets/FashionMNIST/FashionMNIST/raw/t10k-images-idx3-ubyte.gz\n"
     ]
    },
    {
     "name": "stderr",
     "output_type": "stream",
     "text": [
      "\n",
      "  0%|          | 0/4422102 [00:00<?, ?it/s]\u001b[A\n",
      "  0%|          | 16384/4422102 [00:00<01:23, 52802.53it/s]\u001b[A\n",
      "  1%|          | 40960/4422102 [00:01<01:14, 58600.92it/s]\u001b[A\n",
      "  2%|▏         | 90112/4422102 [00:01<00:59, 72237.32it/s]\u001b[A\n",
      "  4%|▍         | 180224/4422102 [00:01<00:45, 93234.26it/s]\u001b[A\n",
      "  6%|▌         | 270336/4422102 [00:01<00:32, 127262.26it/s]\u001b[A\n",
      "  8%|▊         | 352256/4422102 [00:02<00:25, 159885.40it/s]\u001b[A\n",
      " 10%|▉         | 434176/4422102 [00:02<00:18, 210609.67it/s]\u001b[A\n",
      " 12%|█▏        | 516096/4422102 [00:02<00:14, 269777.53it/s]\u001b[A\n",
      " 14%|█▎        | 598016/4422102 [00:02<00:11, 336228.69it/s]\u001b[A\n",
      " 15%|█▌        | 679936/4422102 [00:02<00:09, 406239.70it/s]\u001b[A\n",
      " 17%|█▋        | 761856/4422102 [00:02<00:07, 475966.51it/s]\u001b[A\n",
      " 19%|█▉        | 843776/4422102 [00:02<00:06, 540153.09it/s]\u001b[A\n",
      " 21%|██        | 925696/4422102 [00:02<00:05, 597751.96it/s]\u001b[A\n",
      " 23%|██▎       | 1007616/4422102 [00:03<00:05, 644654.30it/s]\u001b[A\n",
      " 25%|██▍       | 1089536/4422102 [00:03<00:04, 676575.71it/s]\u001b[A\n",
      " 26%|██▋       | 1171456/4422102 [00:03<00:04, 712013.34it/s]\u001b[A\n",
      " 28%|██▊       | 1253376/4422102 [00:03<00:04, 733007.14it/s]\u001b[A\n",
      " 30%|███       | 1335296/4422102 [00:03<00:04, 749187.86it/s]\u001b[A\n",
      " 32%|███▏      | 1417216/4422102 [00:04<00:12, 243467.98it/s]\u001b[A\n",
      " 34%|███▍      | 1523712/4422102 [00:04<00:09, 312323.79it/s]\u001b[A\n",
      " 37%|███▋      | 1654784/4422102 [00:04<00:07, 391890.60it/s]\u001b[A\n",
      " 40%|███▉      | 1753088/4422102 [00:04<00:05, 468986.07it/s]\u001b[A\n",
      " 42%|████▏     | 1851392/4422102 [00:04<00:04, 542816.96it/s]\u001b[A\n",
      " 44%|████▍     | 1949696/4422102 [00:04<00:04, 597151.41it/s]\u001b[A\n",
      " 49%|████▉     | 2179072/4422102 [00:05<00:03, 598251.07it/s]\u001b[A\n",
      " 51%|█████     | 2260992/4422102 [00:05<00:03, 643092.03it/s]\u001b[A\n",
      " 53%|█████▎    | 2342912/4422102 [00:05<00:06, 312332.29it/s]\u001b[A\n",
      " 55%|█████▍    | 2424832/4422102 [00:06<00:05, 381942.71it/s]\u001b[A\n",
      " 56%|█████▋    | 2490368/4422102 [00:06<00:06, 286128.38it/s]\u001b[A\n",
      " 59%|█████▉    | 2621440/4422102 [00:06<00:04, 372900.09it/s]\u001b[A\n",
      " 64%|██████▍   | 2826240/4422102 [00:06<00:03, 493447.88it/s]\u001b[A\n",
      " 67%|██████▋   | 2940928/4422102 [00:07<00:06, 219276.31it/s]\u001b[A\n",
      " 70%|███████   | 3104768/4422102 [00:07<00:04, 295767.40it/s]\u001b[A\n",
      " 89%|████████▉ | 3940352/4422102 [00:08<00:01, 415757.82it/s]\u001b[A\n",
      " 96%|█████████▌| 4251648/4422102 [00:08<00:00, 469153.78it/s]\u001b[A\n",
      "\n",
      "0it [00:00, ?it/s]\u001b[A\u001b[A"
     ]
    },
    {
     "name": "stdout",
     "output_type": "stream",
     "text": [
      "Extracting /home/lmissher/DL/Datasets/FashionMNIST/FashionMNIST/raw/t10k-images-idx3-ubyte.gz\n",
      "Downloading http://fashion-mnist.s3-website.eu-central-1.amazonaws.com/t10k-labels-idx1-ubyte.gz to /home/lmissher/DL/Datasets/FashionMNIST/FashionMNIST/raw/t10k-labels-idx1-ubyte.gz\n"
     ]
    },
    {
     "name": "stderr",
     "output_type": "stream",
     "text": [
      "\n",
      "\n",
      "  0%|          | 0/5148 [00:00<?, ?it/s]\u001b[A\u001b[A\n",
      "\n",
      "8192it [00:00, 12096.76it/s]            \u001b[A\u001b[A"
     ]
    },
    {
     "name": "stdout",
     "output_type": "stream",
     "text": [
      "Extracting /home/lmissher/DL/Datasets/FashionMNIST/FashionMNIST/raw/t10k-labels-idx1-ubyte.gz\n",
      "Processing...\n",
      "Done!\n"
     ]
    },
    {
     "name": "stderr",
     "output_type": "stream",
     "text": [
      "26427392it [00:50, 603209.00it/s]                              \n",
      "4423680it [00:20, 469153.78it/s]                             \u001b[A"
     ]
    }
   ],
   "source": [
    "mnist_train = torchvision.datasets.FashionMNIST(\n",
    "    root='~/DL/Datasets/FashionMNIST', train=True, download=True, transform=transforms.ToTensor())\n",
    "mnist_test = torchvision.datasets.FashionMNIST(\n",
    "    root='~/DL/Datasets/FashionMNIST', train=False, download=True, transform=transforms.ToTensor())\n"
   ]
  },
  {
   "cell_type": "code",
   "execution_count": 6,
   "metadata": {},
   "outputs": [
    {
     "name": "stdout",
     "output_type": "stream",
     "text": [
      "<class 'torchvision.datasets.mnist.FashionMNIST'>\n",
      "60000 10000\n"
     ]
    }
   ],
   "source": [
    "print(type(mnist_train))\n",
    "print(len(mnist_train), len(mnist_test))"
   ]
  },
  {
   "cell_type": "code",
   "execution_count": null,
   "metadata": {},
   "outputs": [],
   "source": []
  }
 ],
 "metadata": {
  "kernelspec": {
   "display_name": "Python 3",
   "language": "python",
   "name": "python3"
  },
  "language_info": {
   "codemirror_mode": {
    "name": "ipython",
    "version": 3
   },
   "file_extension": ".py",
   "mimetype": "text/x-python",
   "name": "python",
   "nbconvert_exporter": "python",
   "pygments_lexer": "ipython3",
   "version": "3.7.5"
  }
 },
 "nbformat": 4,
 "nbformat_minor": 2
}
